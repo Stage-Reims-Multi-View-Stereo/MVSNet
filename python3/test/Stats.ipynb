{
 "cells": [
  {
   "cell_type": "code",
   "execution_count": 1,
   "id": "04568e49-d4f2-4514-9db6-6d1066e60257",
   "metadata": {},
   "outputs": [],
   "source": [
    "dataset_path = \"/scratch_p/rafrantz/tf_model_revery_romeo_C/tests\""
   ]
  },
  {
   "cell_type": "markdown",
   "id": "fc0db89d",
   "metadata": {},
   "source": [
    "Ce notebook permet de tester les résultats d'un modèle. On utilise deux indices : la RMSE et le SSIM.\n",
    "Il faut bien sûr comparer les résultats entre deux modèles avec la même scène pour que les résultats soient porteurs de sens."
   ]
  },
  {
   "cell_type": "code",
   "execution_count": 8,
   "id": "1082e02c-d2fa-42f1-b32c-4bda3af29ba2",
   "metadata": {},
   "outputs": [
    {
     "name": "stdout",
     "output_type": "stream",
     "text": [
      "[[['/scratch_p/rafrantz/tf_model_revery_romeo_C/tests/hf6ag69kr0jdf8ycuw6pf8/rendered_depth_maps/00000000.pfm', '/scratch_p/rafrantz/tf_model_revery_romeo_C/tests/hf6ag69kr0jdf8ycuw6pf8/depths_mvsnet/00000000_init.pfm'], ['/scratch_p/rafrantz/tf_model_revery_romeo_C/tests/hf6ag69kr0jdf8ycuw6pf8/rendered_depth_maps/00000001.pfm', '/scratch_p/rafrantz/tf_model_revery_romeo_C/tests/hf6ag69kr0jdf8ycuw6pf8/depths_mvsnet/00000001_init.pfm'], ['/scratch_p/rafrantz/tf_model_revery_romeo_C/tests/hf6ag69kr0jdf8ycuw6pf8/rendered_depth_maps/00000002.pfm', '/scratch_p/rafrantz/tf_model_revery_romeo_C/tests/hf6ag69kr0jdf8ycuw6pf8/depths_mvsnet/00000002_init.pfm'], ['/scratch_p/rafrantz/tf_model_revery_romeo_C/tests/hf6ag69kr0jdf8ycuw6pf8/rendered_depth_maps/00000003.pfm', '/scratch_p/rafrantz/tf_model_revery_romeo_C/tests/hf6ag69kr0jdf8ycuw6pf8/depths_mvsnet/00000003_init.pfm'], ['/scratch_p/rafrantz/tf_model_revery_romeo_C/tests/hf6ag69kr0jdf8ycuw6pf8/rendered_depth_maps/00000004.pfm', '/scratch_p/rafrantz/tf_model_revery_romeo_C/tests/hf6ag69kr0jdf8ycuw6pf8/depths_mvsnet/00000004_init.pfm'], ['/scratch_p/rafrantz/tf_model_revery_romeo_C/tests/hf6ag69kr0jdf8ycuw6pf8/rendered_depth_maps/00000005.pfm', '/scratch_p/rafrantz/tf_model_revery_romeo_C/tests/hf6ag69kr0jdf8ycuw6pf8/depths_mvsnet/00000005_init.pfm'], ['/scratch_p/rafrantz/tf_model_revery_romeo_C/tests/hf6ag69kr0jdf8ycuw6pf8/rendered_depth_maps/00000006.pfm', '/scratch_p/rafrantz/tf_model_revery_romeo_C/tests/hf6ag69kr0jdf8ycuw6pf8/depths_mvsnet/00000006_init.pfm'], ['/scratch_p/rafrantz/tf_model_revery_romeo_C/tests/hf6ag69kr0jdf8ycuw6pf8/rendered_depth_maps/00000007.pfm', '/scratch_p/rafrantz/tf_model_revery_romeo_C/tests/hf6ag69kr0jdf8ycuw6pf8/depths_mvsnet/00000007_init.pfm'], ['/scratch_p/rafrantz/tf_model_revery_romeo_C/tests/hf6ag69kr0jdf8ycuw6pf8/rendered_depth_maps/00000008.pfm', '/scratch_p/rafrantz/tf_model_revery_romeo_C/tests/hf6ag69kr0jdf8ycuw6pf8/depths_mvsnet/00000008_init.pfm'], ['/scratch_p/rafrantz/tf_model_revery_romeo_C/tests/hf6ag69kr0jdf8ycuw6pf8/rendered_depth_maps/00000009.pfm', '/scratch_p/rafrantz/tf_model_revery_romeo_C/tests/hf6ag69kr0jdf8ycuw6pf8/depths_mvsnet/00000009_init.pfm'], ['/scratch_p/rafrantz/tf_model_revery_romeo_C/tests/hf6ag69kr0jdf8ycuw6pf8/rendered_depth_maps/00000010.pfm', '/scratch_p/rafrantz/tf_model_revery_romeo_C/tests/hf6ag69kr0jdf8ycuw6pf8/depths_mvsnet/00000010_init.pfm'], ['/scratch_p/rafrantz/tf_model_revery_romeo_C/tests/hf6ag69kr0jdf8ycuw6pf8/rendered_depth_maps/00000011.pfm', '/scratch_p/rafrantz/tf_model_revery_romeo_C/tests/hf6ag69kr0jdf8ycuw6pf8/depths_mvsnet/00000011_init.pfm'], ['/scratch_p/rafrantz/tf_model_revery_romeo_C/tests/hf6ag69kr0jdf8ycuw6pf8/rendered_depth_maps/00000012.pfm', '/scratch_p/rafrantz/tf_model_revery_romeo_C/tests/hf6ag69kr0jdf8ycuw6pf8/depths_mvsnet/00000012_init.pfm'], ['/scratch_p/rafrantz/tf_model_revery_romeo_C/tests/hf6ag69kr0jdf8ycuw6pf8/rendered_depth_maps/00000013.pfm', '/scratch_p/rafrantz/tf_model_revery_romeo_C/tests/hf6ag69kr0jdf8ycuw6pf8/depths_mvsnet/00000013_init.pfm'], ['/scratch_p/rafrantz/tf_model_revery_romeo_C/tests/hf6ag69kr0jdf8ycuw6pf8/rendered_depth_maps/00000014.pfm', '/scratch_p/rafrantz/tf_model_revery_romeo_C/tests/hf6ag69kr0jdf8ycuw6pf8/depths_mvsnet/00000014_init.pfm'], ['/scratch_p/rafrantz/tf_model_revery_romeo_C/tests/hf6ag69kr0jdf8ycuw6pf8/rendered_depth_maps/00000015.pfm', '/scratch_p/rafrantz/tf_model_revery_romeo_C/tests/hf6ag69kr0jdf8ycuw6pf8/depths_mvsnet/00000015_init.pfm']]]\n",
      "/scratch_p/rafrantz/tf_model_revery_romeo_C/tests/hf6ag69kr0jdf8ycuw6pf8/rendered_depth_maps/00000000.pfm\n"
     ]
    },
    {
     "ename": "ValueError",
     "evalue": "too many values to unpack (expected 2)",
     "output_type": "error",
     "traceback": [
      "\u001b[0;31m---------------------------------------------------------------------------\u001b[0m",
      "\u001b[0;31mValueError\u001b[0m                                Traceback (most recent call last)",
      "\u001b[1;32m/home/rafrantz/stage/mvsnet/repo/python3/test/Stats.ipynb Cell 3\u001b[0m in \u001b[0;36m<cell line: 37>\u001b[0;34m()\u001b[0m\n\u001b[1;32m     <a href='vscode-notebook-cell://ssh-remote%2Bromeo/home/rafrantz/stage/mvsnet/repo/python3/test/Stats.ipynb#W1sdnNjb2RlLXJlbW90ZQ%3D%3D?line=33'>34</a>\u001b[0m \u001b[39m# On ne vérifie que pour une scène\u001b[39;00m\n\u001b[1;32m     <a href='vscode-notebook-cell://ssh-remote%2Bromeo/home/rafrantz/stage/mvsnet/repo/python3/test/Stats.ipynb#W1sdnNjb2RlLXJlbW90ZQ%3D%3D?line=34'>35</a>\u001b[0m first_test \u001b[39m=\u001b[39m paths[\u001b[39m0\u001b[39m]\n\u001b[0;32m---> <a href='vscode-notebook-cell://ssh-remote%2Bromeo/home/rafrantz/stage/mvsnet/repo/python3/test/Stats.ipynb#W1sdnNjb2RlLXJlbW90ZQ%3D%3D?line=36'>37</a>\u001b[0m df \u001b[39m=\u001b[39m stats\u001b[39m.\u001b[39;49mcompute_dataset_stats(first_test, gen_mesures)\n\u001b[1;32m     <a href='vscode-notebook-cell://ssh-remote%2Bromeo/home/rafrantz/stage/mvsnet/repo/python3/test/Stats.ipynb#W1sdnNjb2RlLXJlbW90ZQ%3D%3D?line=37'>38</a>\u001b[0m \u001b[39mprint\u001b[39m(df)\n",
      "File \u001b[0;32m~/stage/mvsnet/repo/python3/test/stats.py:36\u001b[0m, in \u001b[0;36mcompute_dataset_stats\u001b[0;34m(dataset_paths, gen_mesures)\u001b[0m\n\u001b[1;32m     34\u001b[0m \u001b[39mfor\u001b[39;00m cam_id, depth_path_pair \u001b[39min\u001b[39;00m \u001b[39menumerate\u001b[39m(scene_paths):\n\u001b[1;32m     35\u001b[0m     truth_path, inferred_path \u001b[39m=\u001b[39m depth_path_pair\n\u001b[0;32m---> 36\u001b[0m     truth_image \u001b[39m=\u001b[39m imread(truth_path)\n\u001b[1;32m     37\u001b[0m     inferred_image \u001b[39m=\u001b[39m imread(inferred_path)\n\u001b[1;32m     39\u001b[0m     \u001b[39m# Most of the time, inferred depth is samaller than original depth image\u001b[39;00m\n",
      "\u001b[0;31mValueError\u001b[0m: too many values to unpack (expected 2)"
     ]
    }
   ],
   "source": [
    "import path\n",
    "import stats\n",
    "import skimage.metrics\n",
    "\n",
    "def gen_mesures(truth, inferred):\n",
    "    \"\"\"\n",
    "    On peut personaliser les mesures que l'on souhaite.\n",
    "    Cette fonction doit retourner un dictionnaire, et pour chaque clé un qui contient le score pour cette mesure.\n",
    "    \n",
    "    Args:\n",
    "        truth (numpy.ndarray): L'image de la profondeur vérité terrain\n",
    "        inferred (numpy.ndarray): L'image de la profondeur inferée\n",
    "\n",
    "    Returns:\n",
    "        Le dictionnaire qui contient les mesures.\n",
    "    \"\"\"\n",
    "    \n",
    "    ssim, diff_ssim = skimage.metrics.structural_similarity(truth, inferred, full=True)\n",
    "    rmse = np.sqrt(np.mean((truth - inferred) ** 2))\n",
    "    \n",
    "    return {\n",
    "        \"ssim\": ssim,\n",
    "        \"rmse\": rmse\n",
    "    }\n",
    "\n",
    "paths = path.load_dataset_paths(dataset_path)\n",
    "print(paths)\n",
    "\n",
    "# On ne vérifie que pour une scène\n",
    "first_test = paths[0]\n",
    "\n",
    "df = stats.compute_dataset_stats(first_test, gen_mesures)\n",
    "print(df)"
   ]
  }
 ],
 "metadata": {
  "kernelspec": {
   "display_name": "Python 3.10.4 ('venv': venv)",
   "language": "python",
   "name": "python3"
  },
  "language_info": {
   "codemirror_mode": {
    "name": "ipython",
    "version": 3
   },
   "file_extension": ".py",
   "mimetype": "text/x-python",
   "name": "python",
   "nbconvert_exporter": "python",
   "pygments_lexer": "ipython3",
   "version": "3.10.4"
  },
  "vscode": {
   "interpreter": {
    "hash": "96620b6de66572b01010b63631958ab83afe846e3d0e21d2183061451720a609"
   }
  }
 },
 "nbformat": 4,
 "nbformat_minor": 5
}
