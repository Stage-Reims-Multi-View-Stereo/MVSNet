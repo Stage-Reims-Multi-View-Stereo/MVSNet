{
 "cells": [
  {
   "cell_type": "code",
   "execution_count": 1,
   "id": "04568e49-d4f2-4514-9db6-6d1066e60257",
   "metadata": {},
   "outputs": [],
   "source": [
    "dataset_path = \"/home/rafrantz/stage/data/revery\""
   ]
  },
  {
   "cell_type": "code",
   "execution_count": 2,
   "id": "1082e02c-d2fa-42f1-b32c-4bda3af29ba2",
   "metadata": {},
   "outputs": [
    {
     "ename": "ValueError",
     "evalue": "Inferred depth path '/home/rafrantz/stage/data/revery/1mlkcf9z9h69lpj84ym1m/depths_mvsnet/00000011_init.pfm' does not exist",
     "output_type": "error",
     "traceback": [
      "\u001b[0;31m---------------------------------------------------------------------------\u001b[0m",
      "\u001b[0;31mValueError\u001b[0m                                Traceback (most recent call last)",
      "Input \u001b[0;32mIn [2]\u001b[0m, in \u001b[0;36m<cell line: 14>\u001b[0;34m()\u001b[0m\n\u001b[1;32m      7\u001b[0m     rmse \u001b[38;5;241m=\u001b[39m np\u001b[38;5;241m.\u001b[39msqrt(np\u001b[38;5;241m.\u001b[39mmean((truth \u001b[38;5;241m-\u001b[39m inferred) \u001b[38;5;241m*\u001b[39m\u001b[38;5;241m*\u001b[39m \u001b[38;5;241m2\u001b[39m))\n\u001b[1;32m      9\u001b[0m     \u001b[38;5;28;01mreturn\u001b[39;00m {\n\u001b[1;32m     10\u001b[0m         \u001b[38;5;124m\"\u001b[39m\u001b[38;5;124mssim\u001b[39m\u001b[38;5;124m\"\u001b[39m: ssim,\n\u001b[1;32m     11\u001b[0m         \u001b[38;5;124m\"\u001b[39m\u001b[38;5;124mrmse\u001b[39m\u001b[38;5;124m\"\u001b[39m: rmse\n\u001b[1;32m     12\u001b[0m     }\n\u001b[0;32m---> 14\u001b[0m paths \u001b[38;5;241m=\u001b[39m \u001b[43mpath\u001b[49m\u001b[38;5;241;43m.\u001b[39;49m\u001b[43mload_dataset_paths\u001b[49m\u001b[43m(\u001b[49m\u001b[43mdataset_path\u001b[49m\u001b[43m)\u001b[49m\n\u001b[1;32m     15\u001b[0m \u001b[38;5;28mprint\u001b[39m(paths)\n\u001b[1;32m     16\u001b[0m df \u001b[38;5;241m=\u001b[39m stats\u001b[38;5;241m.\u001b[39mcompute_dataset_stats(paths, gen_mesures)\n",
      "File \u001b[0;32m~/stage/mvsnet/tools/stats/path.py:71\u001b[0m, in \u001b[0;36mload_dataset_paths\u001b[0;34m(dataset_root)\u001b[0m\n\u001b[1;32m     67\u001b[0m \u001b[38;5;28;01mfor\u001b[39;00m line \u001b[38;5;129;01min\u001b[39;00m lines:\n\u001b[1;32m     69\u001b[0m     scene_name \u001b[38;5;241m=\u001b[39m line\u001b[38;5;241m.\u001b[39mstrip()\n\u001b[0;32m---> 71\u001b[0m     dataset_paths\u001b[38;5;241m.\u001b[39mappend(\u001b[43mload_scene_paths\u001b[49m\u001b[43m(\u001b[49m\u001b[43mos\u001b[49m\u001b[38;5;241;43m.\u001b[39;49m\u001b[43mpath\u001b[49m\u001b[38;5;241;43m.\u001b[39;49m\u001b[43mjoin\u001b[49m\u001b[43m(\u001b[49m\u001b[43mdataset_root\u001b[49m\u001b[43m,\u001b[49m\u001b[43m \u001b[49m\u001b[43mscene_name\u001b[49m\u001b[43m)\u001b[49m\u001b[43m)\u001b[49m)        \n\u001b[1;32m     73\u001b[0m \u001b[38;5;28;01mif\u001b[39;00m \u001b[38;5;129;01mnot\u001b[39;00m dataset_paths:\n\u001b[1;32m     74\u001b[0m     \u001b[38;5;28;01mraise\u001b[39;00m \u001b[38;5;167;01mValueError\u001b[39;00m(\u001b[38;5;124m\"\u001b[39m\u001b[38;5;124mTraining file \u001b[39m\u001b[38;5;124m'\u001b[39m\u001b[38;5;132;01m{txt}\u001b[39;00m\u001b[38;5;124m'\u001b[39m\u001b[38;5;124m is empty.\u001b[39m\u001b[38;5;124m\"\u001b[39m)\n",
      "File \u001b[0;32m~/stage/mvsnet/tools/stats/path.py:44\u001b[0m, in \u001b[0;36mload_scene_paths\u001b[0;34m(scene_dir)\u001b[0m\n\u001b[1;32m     41\u001b[0m     inferred_path \u001b[38;5;241m=\u001b[39m os\u001b[38;5;241m.\u001b[39mpath\u001b[38;5;241m.\u001b[39mjoin(scene_dir, \u001b[38;5;124m\"\u001b[39m\u001b[38;5;124mdepths_mvsnet\u001b[39m\u001b[38;5;124m\"\u001b[39m, cam_id \u001b[38;5;241m+\u001b[39m \u001b[38;5;124m\"\u001b[39m\u001b[38;5;124m_init.pfm\u001b[39m\u001b[38;5;124m\"\u001b[39m)\n\u001b[1;32m     43\u001b[0m     \u001b[38;5;28;01mif\u001b[39;00m \u001b[38;5;129;01mnot\u001b[39;00m os\u001b[38;5;241m.\u001b[39mpath\u001b[38;5;241m.\u001b[39misfile(inferred_path):\n\u001b[0;32m---> 44\u001b[0m         \u001b[38;5;28;01mraise\u001b[39;00m \u001b[38;5;167;01mValueError\u001b[39;00m(\u001b[38;5;124mf\u001b[39m\u001b[38;5;124m\"\u001b[39m\u001b[38;5;124mInferred depth path \u001b[39m\u001b[38;5;124m'\u001b[39m\u001b[38;5;132;01m{\u001b[39;00minferred_path\u001b[38;5;132;01m}\u001b[39;00m\u001b[38;5;124m'\u001b[39m\u001b[38;5;124m does not exist\u001b[39m\u001b[38;5;124m\"\u001b[39m)\n\u001b[1;32m     46\u001b[0m     scene\u001b[38;5;241m.\u001b[39mappend([ground_truth_path, inferred_path])\n\u001b[1;32m     48\u001b[0m \u001b[38;5;28;01mreturn\u001b[39;00m scene\n",
      "\u001b[0;31mValueError\u001b[0m: Inferred depth path '/home/rafrantz/stage/data/revery/1mlkcf9z9h69lpj84ym1m/depths_mvsnet/00000011_init.pfm' does not exist"
     ]
    }
   ],
   "source": [
    "import path\n",
    "import stats\n",
    "import skimage.metrics\n",
    "\n",
    "def gen_mesures(truth, inferred):\n",
    "    ssim, diff_ssim = skimage.metrics.structural_similarity(truth, inferred, full=True)\n",
    "    rmse = np.sqrt(np.mean((truth - inferred) ** 2))\n",
    "    \n",
    "    return {\n",
    "        \"ssim\": ssim,\n",
    "        \"rmse\": rmse\n",
    "    }\n",
    "\n",
    "paths = path.load_dataset_paths(dataset_path)\n",
    "print(paths)\n",
    "df = stats.compute_dataset_stats(paths, gen_mesures)\n",
    "print(df)"
   ]
  }
 ],
 "metadata": {
  "kernelspec": {
   "display_name": "Python 3 (ipykernel)",
   "language": "python",
   "name": "python3"
  },
  "language_info": {
   "codemirror_mode": {
    "name": "ipython",
    "version": 3
   },
   "file_extension": ".py",
   "mimetype": "text/x-python",
   "name": "python",
   "nbconvert_exporter": "python",
   "pygments_lexer": "ipython3",
   "version": "3.10.4"
  }
 },
 "nbformat": 4,
 "nbformat_minor": 5
}
